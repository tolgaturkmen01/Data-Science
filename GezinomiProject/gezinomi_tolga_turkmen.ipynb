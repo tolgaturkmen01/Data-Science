{
 "cells": [
  {
   "cell_type": "markdown",
   "metadata": {},
   "source": [
    "### Gezinomi Kural Tabanlı Sınıflandırma ile Potansiyel Müşteri Getirisi Hesaplama Projesi"
   ]
  },
  {
   "cell_type": "code",
   "execution_count": null,
   "metadata": {},
   "outputs": [],
   "source": [
    "import pandas as pd\n",
    "#pd.set_option(\"display.max_rows\", None)\n",
    "pd.set_option(\"display.max_columns\", None)\n",
    "df = pd.read_excel('dataset/miuul_gezinomi.xlsx')\n",
    "pd.set_option('display.float_format', lambda x: '%.2f' % x)\n",
    "print(df.head())\n",
    "print(df.shape)\n",
    "print(df.info())"
   ]
  },
  {
   "cell_type": "markdown",
   "metadata": {},
   "source": [
    "Kaç unique şehir vardır? Frekansları nedir?"
   ]
  },
  {
   "cell_type": "code",
   "execution_count": null,
   "metadata": {},
   "outputs": [],
   "source": [
    "print(df[\"SaleCityName\"].nunique())\n",
    "print(df[\"SaleCityName\"].value_counts())"
   ]
  },
  {
   "cell_type": "markdown",
   "metadata": {},
   "source": [
    "Kaç unique Concept vardır?"
   ]
  },
  {
   "cell_type": "code",
   "execution_count": null,
   "metadata": {},
   "outputs": [],
   "source": [
    "df[\"ConceptName\"].nunique()"
   ]
  },
  {
   "cell_type": "markdown",
   "metadata": {},
   "source": [
    "Hangi Concept'den kaçar tane satış gerçekleşmiştir ?"
   ]
  },
  {
   "cell_type": "code",
   "execution_count": null,
   "metadata": {},
   "outputs": [],
   "source": [
    "df[\"ConceptName\"].value_counts()"
   ]
  },
  {
   "cell_type": "markdown",
   "metadata": {},
   "source": [
    "Şehirlere göre satışlardan toplam ne kadar kazanılmış?"
   ]
  },
  {
   "cell_type": "code",
   "execution_count": null,
   "metadata": {},
   "outputs": [],
   "source": [
    "df.groupby(\"SaleCityName\").agg({\"Price\": \"sum\"})"
   ]
  },
  {
   "cell_type": "markdown",
   "metadata": {},
   "source": [
    "Concept türlerine göre göre ne kadar kazanılmış?"
   ]
  },
  {
   "cell_type": "code",
   "execution_count": null,
   "metadata": {},
   "outputs": [],
   "source": [
    "df.groupby(\"ConceptName\").agg({\"Price\": \"sum\"})"
   ]
  },
  {
   "cell_type": "markdown",
   "metadata": {},
   "source": [
    "Şehirlere göre PRICE ortalamaları nedir?"
   ]
  },
  {
   "cell_type": "code",
   "execution_count": null,
   "metadata": {},
   "outputs": [],
   "source": [
    "df.groupby(by=['SaleCityName']).agg({\"Price\": \"mean\"})"
   ]
  },
  {
   "cell_type": "markdown",
   "metadata": {},
   "source": [
    "Conceptlere  göre PRICE ortalamaları nedir?"
   ]
  },
  {
   "cell_type": "code",
   "execution_count": null,
   "metadata": {},
   "outputs": [],
   "source": [
    "df.groupby(by=['ConceptName']).agg({\"Price\": \"mean\"})"
   ]
  },
  {
   "cell_type": "markdown",
   "metadata": {},
   "source": [
    "Şehir-Concept kırılımında PRICE ortalamaları nedir?"
   ]
  },
  {
   "cell_type": "code",
   "execution_count": null,
   "metadata": {},
   "outputs": [],
   "source": [
    "df.groupby(by=[\"SaleCityName\", 'ConceptName']).agg({\"Price\": \"mean\"})"
   ]
  },
  {
   "cell_type": "markdown",
   "metadata": {},
   "source": [
    "satis_checkin_day_diff değişkenini EB_Score adında yeni bir kategorik değişkene çevirilmesi."
   ]
  },
  {
   "cell_type": "code",
   "execution_count": null,
   "metadata": {},
   "outputs": [],
   "source": [
    "bins = [-1, 7, 30, 90, df[\"SaleCheckInDayDiff\"].max()]\n",
    "labels = [\"Last Minuters\", \"Potential Planners\", \"Planners\", \"Early Bookers\"]\n",
    "\n",
    "df[\"EB_Score\"] = pd.cut(df[\"SaleCheckInDayDiff\"], bins, labels=labels)\n",
    "df.head(50).to_excel(\"eb_scorew.xlsx\", index=False)"
   ]
  },
  {
   "cell_type": "markdown",
   "metadata": {},
   "source": [
    "Şehir,Concept, [EB_Score,Sezon,CInday] kırılımında ücret ortalamalarına ve frekanslarına bakılması."
   ]
  },
  {
   "cell_type": "markdown",
   "metadata": {},
   "source": [
    "Şehir-Concept-EB Score kırılımında ücret ortalamaları"
   ]
  },
  {
   "cell_type": "code",
   "execution_count": null,
   "metadata": {},
   "outputs": [],
   "source": [
    "df.groupby(by=[\"SaleCityName\", 'ConceptName', \"EB_Score\" ]).agg({\"Price\": [\"mean\", \"count\"]})"
   ]
  },
  {
   "cell_type": "markdown",
   "metadata": {},
   "source": [
    "Şehir-Concept-Sezon kırılımında ücret ortalamaları"
   ]
  },
  {
   "cell_type": "code",
   "execution_count": null,
   "metadata": {},
   "outputs": [],
   "source": [
    "df.groupby(by=[\"SaleCityName\", \"ConceptName\", \"Seasons\"]).agg({\"Price\": [\"mean\", \"count\"]})"
   ]
  },
  {
   "cell_type": "markdown",
   "metadata": {},
   "source": [
    "Şehir-Concept-CInday kırılımında ücret ortalamaları"
   ]
  },
  {
   "cell_type": "code",
   "execution_count": null,
   "metadata": {},
   "outputs": [],
   "source": [
    "df.groupby(by=[\"SaleCityName\", \"ConceptName\", \"CInDay\"]).agg({\"Price\": [\"mean\", \"count\"]})"
   ]
  },
  {
   "cell_type": "markdown",
   "metadata": {},
   "source": [
    "City-Concept-Season kırılımın çıktısının PRICE'a göre sıralanması."
   ]
  },
  {
   "cell_type": "code",
   "execution_count": null,
   "metadata": {},
   "outputs": [],
   "source": [
    "agg_df = df.groupby([\"SaleCityName\", \"ConceptName\", \"Seasons\"]).agg({\"Price\": \"mean\"}).sort_values(\"Price\", ascending=False)\n",
    "agg_df.head(20)"
   ]
  },
  {
   "cell_type": "markdown",
   "metadata": {},
   "source": [
    "Personaların segmentlere göre ayırılması ve betimlenmesi."
   ]
  },
  {
   "cell_type": "code",
   "execution_count": null,
   "metadata": {},
   "outputs": [],
   "source": [
    "agg_df[\"SEGMENT\"] = pd.qcut(agg_df[\"Price\"], 4, labels=[\"D\", \"C\", \"B\", \"A\"])\n",
    "agg_df.head(30)\n",
    "agg_df.groupby(\"SEGMENT\").agg({\"Price\": [\"mean\", \"max\", \"sum\"]})"
   ]
  },
  {
   "cell_type": "markdown",
   "metadata": {},
   "source": [
    "Oluşan DataFrame'in \"Price\" değişkenine göre sıralanması."
   ]
  },
  {
   "cell_type": "code",
   "execution_count": null,
   "metadata": {},
   "outputs": [],
   "source": [
    "agg_df.sort_values(by=\"Price\")"
   ]
  },
  {
   "cell_type": "markdown",
   "metadata": {},
   "source": [
    "\"ANTALYA_HERŞEY DAHIL_HIGH\" hangi segmenttedir ve ne kadar ücret beklenmektedir?"
   ]
  },
  {
   "cell_type": "code",
   "execution_count": null,
   "metadata": {},
   "outputs": [],
   "source": [
    "new_user = \"ANTALYA_HERŞEY DAHIL_HIGH\"\n",
    "agg_df[agg_df[\"sales_level_based\"] == new_user]"
   ]
  },
  {
   "cell_type": "markdown",
   "metadata": {},
   "source": [
    "#TolgaTurkmen"
   ]
  }
 ],
 "metadata": {
  "kernelspec": {
   "display_name": "Python 3",
   "language": "python",
   "name": "python3"
  },
  "language_info": {
   "name": "python",
   "version": "3.10.4"
  }
 },
 "nbformat": 4,
 "nbformat_minor": 2
}
